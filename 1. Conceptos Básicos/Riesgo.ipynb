{
 "cells": [
  {
   "cell_type": "markdown",
   "id": "5115941b",
   "metadata": {},
   "source": [
    "## MEDIDAS DE RIESGO Y CORRELACIÓN ENTRE TÍTULOS"
   ]
  },
  {
   "cell_type": "markdown",
   "id": "83175e3b",
   "metadata": {},
   "source": [
    "El riesgo de un activo representa la posibilidad de que el rendimiento efectivamente realizado de un activo no coincida con el esperado. Se cuantifica a través de la desviación tipica poblacional o cuasidesviación tiptica de la rentabilidad de sus valores:\n",
    "\n",
    "$$ \\sigma=\\sqrt{\\frac{\\sum_{t=1}^{T} {(r_t-\\bar{r})}^2}{T}}$$"
   ]
  },
  {
   "cell_type": "markdown",
   "id": "252691d3",
   "metadata": {},
   "source": [
    "### **Ejercicio 1.6.**"
   ]
  },
  {
   "cell_type": "markdown",
   "id": "8bcb4ed4",
   "metadata": {},
   "source": [
    "Desviación típica de la rentabilidad simple y continua con los datos del Ejercicio 1.3."
   ]
  },
  {
   "cell_type": "code",
   "execution_count": 13,
   "id": "c6296adf",
   "metadata": {},
   "outputs": [
    {
     "name": "stdout",
     "output_type": "stream",
     "text": [
      "Medidad de rentabilidad:\n",
      "- Media diaria simple: 0.11465%\n",
      "                     \n",
      "Medidad de deviación:\n",
      " -Desviación tipica muestral diaria (rentabilidad simple): 0.23565%\n",
      " -Cuasidesviación tipica (poblacional) diaria (rentabilidad simple): 0.24146%\n"
     ]
    }
   ],
   "source": [
    "import pandas as pd\n",
    "import numpy as np\n",
    "\n",
    "cot=pd.read_excel(\"https://raw.githubusercontent.com/jjimvar/Gestion-de-carteras/main/1.%20Conceptos%20B%C3%A1sicos/ejemplos_l1.xlsx\", \n",
    "    sheet_name=\"Ejemplo 1.3\")\n",
    "\n",
    "#Rentabilidades\n",
    "cot[\"Rent. Simple\"]=((cot[\"Cotización\"]/cot[\"Cotización\"].shift(1))-1)*100\n",
    "cot[\"Rent. Instantánea\"]=np.log(cot[\"Cotización\"]/cot[\"Cotización\"].shift(1))*100\n",
    "print(\"Medidad de rentabilidad:\")\n",
    "print(f\"- Media diaria simple: {round(cot[\"Rent. Simple\"].mean(), 5)}%\")\n",
    "\n",
    "\n",
    "#Desv. Est.\n",
    "desv_estm=cot[\"Rent. Instantánea\"].std(ddof=0) #Muestral\n",
    "desv_estp=cot[\"Rent. Instantánea\"].std(ddof=1) #Poblacional\n",
    "\n",
    "print(\"                     \")\n",
    "print(\"Medidad de deviación:\")\n",
    "print(f\" -Desviación tipica muestral diaria (rentabilidad simple): {round(desv_estm,5)}%\")\n",
    "print(f\" -Cuasidesviación tipica (poblacional) diaria (rentabilidad simple): {round(desv_estp,5)}%\")"
   ]
  },
  {
   "cell_type": "markdown",
   "id": "16e7960d",
   "metadata": {},
   "source": [
    "De esta forma, podemos interpretar la desviación típica como la desviación media de las rentabilidades de un activo con respecto a su rentabilidad promedio. Es decir, la renatbilidad media diaria es del 0,11465% y presenta una desv. tipica del 0,23565%. \n",
    "\n",
    "$$Intervalo Fluctuación Rentabilidad=[-0.121, 0.3503]$$"
   ]
  },
  {
   "cell_type": "code",
   "execution_count": 30,
   "id": "9fd6cfaa",
   "metadata": {},
   "outputs": [
    {
     "data": {
      "image/png": "[encoded data removed]",
      "text/plain": [
       "<Figure size 640x480 with 1 Axes>"
      ]
     },
     "metadata": {},
     "output_type": "display_data"
    }
   ],
   "source": [
    "import matplotlib.pyplot as plt\n",
    "import pandas as pd\n",
    "\n",
    "cot[\"R mean\"]=cot[\"Rent. Simple\"].mean()\n",
    "cot[\"Des. Est. Up\"]=cot[\"Rent. Simple\"].mean()+desv_estm\n",
    "cot[\"Des. Est. Low\"]=cot[\"Rent. Simple\"].mean()-desv_estm\n",
    "\n",
    "plt.scatter(cot[\"Sesión\"], cot[\"Rent. Simple\"])\n",
    "plt.plot(cot[\"Sesión\"],cot[\"R mean\"], color=\"red\")\n",
    "plt.plot(cot[\"Sesión\"],cot[\"Des. Est. Up\"], color=\"red\", linestyle=\"--\")\n",
    "plt.plot(cot[\"Sesión\"],cot[\"Des. Est. Low\"], color=\"red\", linestyle=\"--\")\n",
    "plt.title(\"RENTABILIDAD-RIESGO\")\n",
    "plt.axhline(0, color=\"black\", linewidth=1, linestyle=\"-\")\n",
    "plt.show()"
   ]
  },
  {
   "cell_type": "markdown",
   "id": "3e5d0360",
   "metadata": {},
   "source": [
    "### **EJERCICIO 1.7.**"
   ]
  },
  {
   "cell_type": "markdown",
   "id": "9a9ce8de",
   "metadata": {},
   "source": [
    "Desviación típica de la rentabilidad simple y continua con los datos del Ejercicio 1.4."
   ]
  },
  {
   "cell_type": "code",
   "execution_count": null,
   "id": "79223399",
   "metadata": {},
   "outputs": [
    {
     "name": "stdout",
     "output_type": "stream",
     "text": [
      "Medidad de deviación:\n",
      " -Cuasidesviación mensual (rentabilidad simple): 2.81775%\n",
      " -Cuasidesviación mensual (rentabilidad instantánea): 2.80288%\n"
     ]
    }
   ],
   "source": [
    "import pandas as pd\n",
    "\n",
    "df=pd.read_excel(\"https://github.com/jjimvar/Gestion-de-carteras/raw/refs/heads/main/1.%20Conceptos%20B%C3%A1sicos/ejemplos_l1.xlsx\",\n",
    "                 sheet_name=\"Ejemplo 1.4\")\n",
    "\n",
    "df.set_index(\"Sesión\")\n",
    "\n",
    "#Rentabilidad media mensual\n",
    "df[\"R simple\"]=df[\"Cotización\"]/df[\"Cotización\"].shift(1)-1\n",
    "df[\"R instantánea\"]=np.log(df[\"Cotización\"]/df[\"Cotización\"].shift(1))\n",
    "\n",
    "#Desvación tipica mensual\n",
    "sigma_simp=df[\"R simple\"].std(ddof=1)*100\n",
    "sigma_inst=df[\"R instantánea\"].std(ddof=1)*100\n",
    "\n",
    "print(\"Medidad de deviación:\")\n",
    "print(f\" -Cuasidesviación mensual (rentabilidad simple): {round(sigma_simp,5)}%\")\n",
    "print(f\" -Cuasidesviación mensual (rentabilidad instantánea): {round(sigma_inst,5)}%\")"
   ]
  },
  {
   "cell_type": "markdown",
   "id": "dc2c3e3d",
   "metadata": {},
   "source": [
    "Cuando trabajamos con períodos inferiores al año, es necesario anualizar los resultados. \n",
    "\n",
    "Bajo el supuesto de que **los rendimientos no están correlacionados en intervalos sucesivos de tiempo, o sea, son independientes y están identicamente distribuidos**, podemos afirmar que:\n",
    "\n",
    "$$\\sigma_a^2=\\sigma_k^2·k; \\sigma_a=\\sigma_k·\\sqrt{k}$$"
   ]
  },
  {
   "cell_type": "markdown",
   "id": "95554bf5",
   "metadata": {},
   "source": [
    "En general:\n",
    "\n",
    "$$\\sigma_a=\\sigma_m·\\sqrt{12}$$\n",
    "$$\\sigma_a=\\sigma_d·\\sqrt{252}$$\n",
    "$$\\sigma_m=\\sigma_d·\\sqrt{20}$$"
   ]
  },
  {
   "cell_type": "markdown",
   "id": "2a834310",
   "metadata": {},
   "source": [
    "### **Ejercicio 1.8.**"
   ]
  },
  {
   "cell_type": "markdown",
   "id": "a7b64c1f",
   "metadata": {},
   "source": [
    "Con los datos del ejemplo 1.7, determinar riesgo anual"
   ]
  },
  {
   "cell_type": "code",
   "execution_count": 50,
   "id": "89efcd04",
   "metadata": {},
   "outputs": [
    {
     "name": "stdout",
     "output_type": "stream",
     "text": [
      "Medidad de deviación:\n",
      " -Cuasidesviación anual (rentabilidad simple): 9.76096%\n",
      " -Cuasidesviación anual (rentabilidad instantánea): 9.70946%\n"
     ]
    }
   ],
   "source": [
    "from math import sqrt\n",
    "sigma_a_simple=sigma_simp_p*sqrt(12)\n",
    "sigma_a_inst=sigma_inst_p*sqrt(12)\n",
    "\n",
    "\n",
    "print(\"Medidad de deviación:\")\n",
    "print(f\" -Cuasidesviación anual (rentabilidad simple): {round(sigma_a_simple,5)}%\")\n",
    "print(f\" -Cuasidesviación anual (rentabilidad instantánea): {round(sigma_a_inst,5)}%\")"
   ]
  },
  {
   "cell_type": "markdown",
   "id": "7d9afa28",
   "metadata": {},
   "source": [
    "Las variaciones en la rentabilidad de un activo pueden estar influenciadas por las variaciones ocasionadas en otros activos. Esto se mide con la **covarianza**:\n",
    "\n",
    "$$cov_{ij}=\\frac{\\sum_{t=1}^{T}{(r_{it}-\\bar{r_i})(r_{jt}-\\bar{r_j})}}{T-1}$$\n",
    "\n",
    "Mide si las retabilidades se mueven en la misma dirección (covarianza positiva) o en direcciones opuestas (covarianza negativa).\n",
    "\n",
    "Para cuantificar el peso de esa relación, se hace uso del **coeficiente de correlación**:\n",
    "\n",
    "$$\\rho_{ij}=\\frac{\\sum_{t=1}^{T}{(r_{it}-\\bar{r_i})(r_{jt}-\\bar{r_j})}}{(\\sum_{t=1}^{T} {(r_{it}-\\bar{r_i})}^2)·(\\sum_{t=1}^{T} {(r_{jt}-\\bar{r_j})}^2)}$$\n",
    "\n",
    "$$(|\\rho|=1, Correlación fuerte)$$\n",
    "$$(\\rho=0, Correlación débil)$$\n",
    "\n"
   ]
  },
  {
   "cell_type": "markdown",
   "id": "e9226262",
   "metadata": {},
   "source": [
    "### **Ejercicio 1.9.**"
   ]
  },
  {
   "cell_type": "markdown",
   "id": "36493a3b",
   "metadata": {},
   "source": [
    "De las cotizaciones de 2 activos, calcular:\n",
    "- Rentabilidad media mensual simple instantánea\n",
    "- Riesgo mensual simple e instantáneo\n",
    "- Covarianza y coeficiente de correlación lineal para rentabilidades simple y para rentabilidades continuas"
   ]
  },
  {
   "cell_type": "code",
   "execution_count": 2,
   "id": "5d1174f5",
   "metadata": {},
   "outputs": [
    {
     "name": "stdout",
     "output_type": "stream",
     "text": [
      "Activo A:\n",
      "- Rentabilidad media mensual simple: 1.90261%\n",
      "- Rentabilidad media mensual instantánea: 1.85541%\n",
      "- Riesgo mensual simple: 2.61633%\n",
      "- Riesgo mensual instantáneo: 2.51045%\n",
      "                     \n",
      "Activo B:\n",
      "- Rentabilidad media mensual simple: 1.36721%\n",
      "- Rentabilidad media mensual instantánea: 1.34949%\n",
      "- Riesgo mensual simple: 1.38321%\n",
      "- Riesgo mensual instantáneo: 1.35607%\n"
     ]
    }
   ],
   "source": [
    "import pandas as pd\n",
    "import numpy as np\n",
    "\n",
    "#Carga datos\n",
    "cot=pd.read_excel(\"https://github.com/jjimvar/Gestion-de-carteras/raw/refs/heads/main/1.%20Conceptos%20B%C3%A1sicos/ejemplos_l1.xlsx\",\n",
    "                  sheet_name=\"Ejemplo 1.9\")\n",
    "\n",
    "cot.columns=cot.iloc[0]\n",
    "cot=cot.iloc[1:]\n",
    "#Pasamos todo a float:\n",
    "for i in cot.columns:\n",
    "    cot[i]=cot[i].astype(float)\n",
    "\n",
    "#Rentabilidades: Activo A\n",
    "cot[\"Activo A: Rm\"]=(cot[\"Activo A\"]/cot[\"Activo A\"].shift(1)-1)*100\n",
    "cot[\"Activo A: Km\"] = np.log(cot[\"Activo A\"]/ cot[\"Activo A\"].shift(1)) * 100\n",
    "cot[\"Activo A: sigma_rm\"]=cot[\"Activo A: Rm\"].std()\n",
    "cot[\"Activo A: sigma_km\"]=cot[\"Activo A: Km\"].std()\n",
    "\n",
    "#Rentabilidades: Activo B\n",
    "cot[\"Activo B: Rm\"]=(cot[\"Activo B\"]/cot[\"Activo B\"].shift(1)-1)*100\n",
    "cot[\"Activo B: Km\"] = np.log(cot[\"Activo B\"]/ cot[\"Activo B\"].shift(1)) * 100\n",
    "cot[\"Activo B: sigma_rm\"]=cot[\"Activo B: Rm\"].std()\n",
    "cot[\"Activo B: sigma_km\"]=cot[\"Activo B: Km\"].std()\n",
    "\n",
    "#Mostramos las medidas \n",
    "print(\"Activo A:\")\n",
    "print(f\"- Rentabilidad media mensual simple: {round(cot['Activo A: Rm'].mean(),5)}%\")\n",
    "print(f\"- Rentabilidad media mensual instantánea: {round(cot['Activo A: Km'].mean(),5)}%\")\n",
    "print(f\"- Riesgo mensual simple: {round(cot['Activo A: sigma_rm'].mean(),5)}%\")\n",
    "print(f\"- Riesgo mensual instantáneo: {round(cot['Activo A: sigma_km'].mean(),5)}%\")\n",
    "\n",
    "\n",
    "print(\"                     \")\n",
    "print(\"Activo B:\")\n",
    "print(f\"- Rentabilidad media mensual simple: {round(cot['Activo B: Rm'].mean(),5)}%\")\n",
    "print(f\"- Rentabilidad media mensual instantánea: {round(cot['Activo B: Km'].mean(),5)}%\")\n",
    "print(f\"- Riesgo mensual simple: {round(cot['Activo B: sigma_rm'].mean(),5)}%\")\n",
    "print(f\"- Riesgo mensual instantáneo: {round(cot['Activo B: sigma_km'].mean(),5)}%\")"
   ]
  },
  {
   "cell_type": "code",
   "execution_count": 12,
   "id": "82a18157",
   "metadata": {},
   "outputs": [
    {
     "name": "stdout",
     "output_type": "stream",
     "text": [
      "Rentabilidad Simple:\n",
      "- Covarianza: 0.0002602\n",
      "- Coef. Correlación: 0.71895\n",
      "                   \n",
      "Rentabilidad Continua:\n",
      "- Covarianza: 0.0002465\n",
      "- Coef. Correlación: 0.72395\n"
     ]
    }
   ],
   "source": [
    "#Medidas de relación\n",
    "cov_rm=(cot[\"Activo A: Rm\"]/100).cov(cot[\"Activo B: Rm\"]/100)\n",
    "corr_rm=(cot[\"Activo A: Rm\"]/100).corr(cot[\"Activo B: Rm\"]/100)\n",
    "\n",
    "cov_km=(cot[\"Activo A: Km\"]/100).cov(cot[\"Activo B: Km\"]/100)\n",
    "corr_km=(cot[\"Activo A: Km\"]/100).corr(cot[\"Activo B: Km\"]/100)\n",
    "\n",
    "print(\"Rentabilidad Simple:\")\n",
    "print(f\"- Covarianza: {round(cov_rm, 7)}\")\n",
    "print(f\"- Coef. Correlación: {round(corr_rm, 5)}\")\n",
    "print(\"                   \")\n",
    "print(\"Rentabilidad Continua:\")\n",
    "print(f\"- Covarianza: {round(cov_km, 7)}\")\n",
    "print(f\"- Coef. Correlación: {round(corr_km, 5)}\")\n"
   ]
  },
  {
   "cell_type": "markdown",
   "id": "676f9ef3",
   "metadata": {},
   "source": [
    "### **Ejercicio 1.10.**"
   ]
  },
  {
   "cell_type": "markdown",
   "id": "e19c86db",
   "metadata": {},
   "source": [
    "Calcular el coeficiente de correlación lineal y representar gráficamente las rentabilidades"
   ]
  },
  {
   "cell_type": "code",
   "execution_count": null,
   "id": "6575041f",
   "metadata": {},
   "outputs": [
    {
     "data": {
      "image/png": "[encoded data removed]",
      "text/plain": [
       "<Figure size 640x480 with 1 Axes>"
      ]
     },
     "metadata": {},
     "output_type": "display_data"
    },
    {
     "name": "stdout",
     "output_type": "stream",
     "text": [
      "Observamos como la ecuación de la relación de los activos es: $r_i=2+0,9r_m$ \n"
     ]
    }
   ],
   "source": [
    "import pandas as pd\n",
    "import matplotlib.pyplot as plt\n",
    "\n",
    "rent=pd.DataFrame({\"Activo i\": [0.00, 3.00, 7.00, 8.00, 9.00],\n",
    "                   \"Activo j\": [2.00, 4.70, 8.30, 9.20, 10.10]})\n",
    "\n",
    "corr=rent[\"Activo i\"].corr(rent[\"Activo j\"]) #Calculamos la correlación\n",
    "\n",
    "plt.scatter(rent[\"Activo i\"], rent[\"Activo j\"])\n",
    "plt.ylim(ymin=0)\n",
    "plt.xlim(xmin=0)\n",
    "plt.ylabel(\"Rentabilidad del activo i\")\n",
    "plt.xlabel(\"Rentabilidad del activo j\")\n",
    "plt.show()\n",
    "\n",
    "print(\"Observamos como la ecuación de la relación de los activos es: r_i=2+0,9r_j\")"
   ]
  },
  {
   "cell_type": "code",
   "execution_count": null,
   "id": "cb361155",
   "metadata": {},
   "outputs": [],
   "source": []
  }
 ],
 "metadata": {
  "kernelspec": {
   "display_name": "Python 3",
   "language": "python",
   "name": "python3"
  },
  "language_info": {
   "codemirror_mode": {
    "name": "ipython",
    "version": 3
   },
   "file_extension": ".py",
   "mimetype": "text/x-python",
   "name": "python",
   "nbconvert_exporter": "python",
   "pygments_lexer": "ipython3",
   "version": "3.12.1"
  }
 },
 "nbformat": 4,
 "nbformat_minor": 5
}
