{
 "cells": [
  {
   "cell_type": "markdown",
   "id": "5115941b",
   "metadata": {},
   "source": [
    "## MEDIDAS DE RIESGO Y CORRELACIÓN ENTRE TÍTULOS"
   ]
  },
  {
   "cell_type": "markdown",
   "id": "83175e3b",
   "metadata": {},
   "source": [
    "El riesgo de un activo representa la posibilidad de que el rendimiento efectivamente realizado de un activo no coincida con el esperado. Se cuantifica a través de la desviación tipica de la rentabilidad de sus valores:\n",
    "\n",
    "$$ \\sigma=\\sqrt{\\frac{\\sum_{t=1}^{T} {(r_t-\\bar{r})}^2}{T}}$$"
   ]
  },
  {
   "cell_type": "markdown",
   "id": "252691d3",
   "metadata": {},
   "source": [
    "### **Ejercicio 1.6.**"
   ]
  },
  {
   "cell_type": "markdown",
   "id": "8bcb4ed4",
   "metadata": {},
   "source": [
    "Desviación típica de la rentabilidad simple y continua con los datos del Ejercicio 1.3."
   ]
  },
  {
   "cell_type": "code",
   "execution_count": 22,
   "id": "c6296adf",
   "metadata": {},
   "outputs": [
    {
     "data": {
      "text/plain": [
       "np.float64(0.2356450881672694)"
      ]
     },
     "execution_count": 22,
     "metadata": {},
     "output_type": "execute_result"
    }
   ],
   "source": [
    "import pandas as pd\n",
    "import numpy as np\n",
    "\n",
    "cot=pd.read_excel(\"https://raw.githubusercontent.com/jjimvar/Gestion-de-carteras/main/1.%20Conceptos%20B%C3%A1sicos/ejemplos_l1.xlsx\", \n",
    "    sheet_name=\"Ejemplo 1.3\")\n",
    "\n",
    "#Rentabilidades\n",
    "cot[\"Rent. Simple\"]=((cot[\"Cotización\"]/cot[\"Cotización\"].shift(1))-1)*100\n",
    "cot[\"Rent. Instantánea\"]=np.log(cot[\"Cotización\"]/cot[\"Cotización\"].shift(1))*100\n",
    "\n",
    "#Desv. Est.\n",
    "desv_est=cot[\"Rent. Instantánea\"].std(ddof=0)\n",
    "desv_est"
   ]
  }
 ],
 "metadata": {
  "kernelspec": {
   "display_name": "Python 3",
   "language": "python",
   "name": "python3"
  },
  "language_info": {
   "codemirror_mode": {
    "name": "ipython",
    "version": 3
   },
   "file_extension": ".py",
   "mimetype": "text/x-python",
   "name": "python",
   "nbconvert_exporter": "python",
   "pygments_lexer": "ipython3",
   "version": "3.12.1"
  }
 },
 "nbformat": 4,
 "nbformat_minor": 5
}
