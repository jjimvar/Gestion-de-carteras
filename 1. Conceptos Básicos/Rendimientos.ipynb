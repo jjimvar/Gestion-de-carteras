{
 "cells": [
  {
   "cell_type": "markdown",
   "id": "af092d57",
   "metadata": {},
   "source": [
    "## CAPITULO 1: CONCEPTOS BÁSICOS"
   ]
  },
  {
   "cell_type": "markdown",
   "id": "6c7375f6",
   "metadata": {},
   "source": [
    "### A) Tipos de inversiones financieras\n",
    "\n",
    "+ **Gestión de carteras**: análisis títulos, análisis carteras y selección de las carteras óptimas (min. reisgo y max. rentabilidad)\n",
    "\n",
    "+ **Administración de inversiones**: establecer polítca de inversión (sujeta al perfil de riesgo del cliente), análisis títulos, formalización y análisis de las carteras, selección de la cartera y evaluación periódica de sus resultados.\n"
   ]
  },
  {
   "cell_type": "markdown",
   "id": "fab4dfcf",
   "metadata": {},
   "source": [
    "### B) Medidas de rentabilidad\n",
    "\n",
    "- **Rentabilidad simple**: \n",
    "    - Mide el cambio de valor de un activo sin reinversión.\n",
    "    - Cálculo: $C_n=C_0·(1+n·r)$; $r=((C_n/C_0)-1)/n$\n",
    "\n",
    "\n",
    "- **Rentabilidad compuesta** \n",
    "    - Mide el cambio de valor de un activo cuando sus rendimientos son reinvertidos\n",
    "    - Cálculo: $C_n=C_0·(1+i)^n$; $i=(C_n/C_0)^1/n -1$"
   ]
  },
  {
   "cell_type": "markdown",
   "id": "ea8763c2",
   "metadata": {},
   "source": []
  }
 ],
 "metadata": {
  "language_info": {
   "name": "python"
  }
 },
 "nbformat": 4,
 "nbformat_minor": 5
}
