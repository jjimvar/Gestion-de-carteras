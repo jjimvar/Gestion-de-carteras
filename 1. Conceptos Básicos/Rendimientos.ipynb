{
 "cells": [
  {
   "cell_type": "markdown",
   "id": "af092d57",
   "metadata": {},
   "source": [
    "## CAPITULO 1: CONCEPTOS BÁSICOS"
   ]
  },
  {
   "cell_type": "markdown",
   "id": "6c7375f6",
   "metadata": {},
   "source": [
    "### A) Tipos de inversiones financieras\n",
    "\n",
    "+ **Gestión de carteras**: análisis títulos, análisis carteras y selección de las carteras óptimas (min. reisgo y max. rentabilidad)\n",
    "\n",
    "+ **Administración de inversiones**: establecer polítca de inversión (sujeta al perfil de riesgo del cliente), análisis títulos, formalización y análisis de las carteras, selección de la cartera y evaluación periódica de sus resultados.\n"
   ]
  },
  {
   "cell_type": "markdown",
   "id": "fab4dfcf",
   "metadata": {},
   "source": [
    "### B) Medidas de rentabilidad\n",
    "\n",
    "- **Rentabilidad simple**: \n",
    "    - Mide el cambio de valor de un activo sin reinversión.\n",
    "    - Cálculo: $C_n=C_0·(1+n·r)$; $r=((C_n/C_0)-1)/n$\n",
    "\n",
    "\n",
    "- **Rentabilidad compuesta** \n",
    "    - Mide el cambio de valor de un activo cuando sus rendimientos son reinvertidos. Utilizado para evaluación de carteras\n",
    "    - Cálculo: $C_n=C_0·(1+i)^n$; $i=(C_n/C_0)^1/n -1$\n",
    "\n",
    "- **Rentabilidad continua**\n",
    "    - Mide el cambio de valor de un activo cuando su reinversión es infinitamente frecuente. Utilizado para evaluar dereivados.\n",
    "    - Cálculo: $C_n=C_0·e^nk$; $k=ln(C_n/C_0)/n$"
   ]
  },
  {
   "cell_type": "markdown",
   "id": "ea8763c2",
   "metadata": {},
   "source": [
    "### Ejercicio 1.1."
   ]
  },
  {
   "cell_type": "markdown",
   "id": "bae80fb5",
   "metadata": {},
   "source": [
    "| 0 | tr1. | \n",
    "| ---- | ---- |\n",
    "| -42 | 42+1.5 |\n",
    "\n",
    "Dado dicho horizonte temporal, calcular:\n",
    "- Rentabilidad mensual, trimestral y anual, simple, compuesta y continua y comparar su igualdad temporal"
   ]
  },
  {
   "cell_type": "code",
   "execution_count": null,
   "id": "1b4bf9f7",
   "metadata": {},
   "outputs": [
    {
     "name": "stdout",
     "output_type": "stream",
     "text": [
      "Rentabilidad mensual lineal: 1.1905 %\n",
      "Rentabilidad trimestral lineal: 3.5714 %\n",
      "Rentabilidad anual lineal: 14.2857 %\n",
      "Igualdad de los rentabilidades: (1+rm)^3=(1+rt)=(1+ra)^1/3\n"
     ]
    }
   ],
   "source": [
    "# Rentabilidad simple\n",
    "rm=((43.5/42)-1)/3\n",
    "print(\"Rentabilidad mensual lineal:\", round(rm*100,4), \"%\")\n",
    "rt=(43.5/42)-1\n",
    "print(\"Rentabilidad trimestral lineal:\", round(rt*100,4), \"%\")\n",
    "ra=((43.5/42)-1)*4\n",
    "print(\"Rentabilidad anual lineal:\", round(ra*100,4), \"%\")\n",
    "print(\"Igualdad de las rentabilidades: (1+rm)*3=(1+rt)=(1+ra)/4\")"
   ]
  },
  {
   "cell_type": "code",
   "execution_count": null,
   "id": "22a32fa0",
   "metadata": {},
   "outputs": [
    {
     "name": "stdout",
     "output_type": "stream",
     "text": [
      "Rentabilidad mensual compuesta: 1.1766 %\n",
      "Rentabilidad trimestral compuesta: 3.5714 %\n",
      "Rentabilidad anual compuesta: 15.0694 %\n"
     ]
    }
   ],
   "source": [
    "# Rentabilidad compuesta\n",
    "im=((43.5/42)**(1/3))-1\n",
    "print(\"Rentabilidad mensual compuesta:\", round(im*100,4), \"%\")\n",
    "it=(43.5/42)-1\n",
    "print(\"Rentabilidad trimestral compuesta:\", round(it*100,4), \"%\")\n",
    "ia=((43.5/42)**(4))-1\n",
    "print(\"Rentabilidad anual compuesta:\", round(ia*100,4), \"%\")\n",
    "print(\"Igualdad de las rentabilidades: (1+im)^3=(1+it)=(1+ia)^1/4\")"
   ]
  },
  {
   "cell_type": "code",
   "execution_count": 14,
   "id": "e5094be2",
   "metadata": {},
   "outputs": [
    {
     "name": "stdout",
     "output_type": "stream",
     "text": [
      "Rentabilidad mensual continua: 1.1697 %\n",
      "Rentabilidad trimestral compuesta: 3.5091 %\n",
      "Rentabilidad anual compuesta: 14.0365 %\n",
      "Igualdad de las rentabilidades: km*3=kt=ka/4\n"
     ]
    }
   ],
   "source": [
    "import math\n",
    "# Rentabilidad continua\n",
    "km=math.log(43.5/42)/3\n",
    "print(\"Rentabilidad mensual continua:\", round(km*100,4), \"%\")\n",
    "kt=math.log(43.5/42)\n",
    "print(\"Rentabilidad trimestral compuesta:\", round(kt*100,4), \"%\")\n",
    "ka=math.log(43.5/42)*4\n",
    "print(\"Rentabilidad anual compuesta:\", round(ka*100,4), \"%\")\n",
    "print(\"Igualdad de las rentabilidades: km*3=kt=ka/4\")"
   ]
  }
 ],
 "metadata": {
  "kernelspec": {
   "display_name": "Python 3",
   "language": "python",
   "name": "python3"
  },
  "language_info": {
   "codemirror_mode": {
    "name": "ipython",
    "version": 3
   },
   "file_extension": ".py",
   "mimetype": "text/x-python",
   "name": "python",
   "nbconvert_exporter": "python",
   "pygments_lexer": "ipython3",
   "version": "3.12.1"
  }
 },
 "nbformat": 4,
 "nbformat_minor": 5
}
