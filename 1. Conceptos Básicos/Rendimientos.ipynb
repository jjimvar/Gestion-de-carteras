{
 "cells": [
  {
   "cell_type": "markdown",
   "id": "af092d57",
   "metadata": {},
   "source": [
    "## CAPITULO 1: CONCEPTOS BÁSICOS"
   ]
  },
  {
   "cell_type": "markdown",
   "id": "6c7375f6",
   "metadata": {},
   "source": [
    "### A) Tipos de inversiones financieras\n",
    "\n",
    "+ **Gestión de carteras**: análisis títulos, análisis carteras y selección de las carteras óptimas (min. reisgo y max. rentabilidad)\n",
    "\n",
    "+ **Administración de inversiones**: establecer polítca de inversión (sujeta al perfil de riesgo del cliente), análisis títulos, formalización y análisis de las carteras, selección de la cartera y evaluación periódica de sus resultados.\n"
   ]
  },
  {
   "cell_type": "markdown",
   "id": "fab4dfcf",
   "metadata": {},
   "source": [
    "### B) Medidas de rentabilidad\n",
    "\n",
    "- **Rentabilidad simple**: \n",
    "    - Mide el cambio de valor de un activo sin reinversión.\n",
    "    - Cálculo: $C_n=C_0·(1+n·r)$; $r=((C_n/C_0)-1)/n$\n",
    "\n",
    "\n",
    "- **Rentabilidad compuesta** \n",
    "    - Mide el cambio de valor de un activo cuando sus rendimientos son reinvertidos. Utilizado para evaluación de carteras\n",
    "    - Cálculo: $C_n=C_0·(1+i)^n$; $i=(C_n/C_0)^1/n -1$\n",
    "\n",
    "- **Rentabilidad continua**\n",
    "    - Mide el cambio de valor de un activo cuando su reinversión es infinitamente frecuente. Utilizado para evaluar dereivados.\n",
    "    - Cálculo: $C_n=C_0·e^nk$; $k=ln(C_n/C_0)/n$"
   ]
  },
  {
   "cell_type": "markdown",
   "id": "ea8763c2",
   "metadata": {},
   "source": [
    "### Ejercicio 1.1."
   ]
  },
  {
   "cell_type": "markdown",
   "id": "bae80fb5",
   "metadata": {},
   "source": [
    "| 0 | tr1. | \n",
    "| ---- | ---- |\n",
    "| -42 | 42+1.5 |\n",
    "\n",
    "Dado dicho horizonte temporal, calcular:\n",
    "- Rentabilidad mensual, trimestral y anual, simple, compuesta y continua y comparar su igualdad temporal"
   ]
  },
  {
   "cell_type": "code",
   "execution_count": null,
   "id": "1b4bf9f7",
   "metadata": {},
   "outputs": [
    {
     "name": "stdout",
     "output_type": "stream",
     "text": [
      "Rentabilidad mensual lineal: 1.1905 %\n",
      "Rentabilidad trimestral lineal: 3.5714 %\n",
      "Rentabilidad anual lineal: 14.2857 %\n",
      "Igualdad de los rentabilidades: (1+rm)^3=(1+rt)=(1+ra)^1/3\n"
     ]
    }
   ],
   "source": [
    "# Rentabilidad simple\n",
    "rm=((43.5/42)-1)/3\n",
    "print(\"Rentabilidad mensual lineal:\", round(rm*100,4), \"%\")\n",
    "rt=(43.5/42)-1\n",
    "print(\"Rentabilidad trimestral lineal:\", round(rt*100,4), \"%\")\n",
    "ra=((43.5/42)-1)*4\n",
    "print(\"Rentabilidad anual lineal:\", round(ra*100,4), \"%\")\n",
    "print(\"Igualdad de las rentabilidades: (1+rm)*3=(1+rt)=(1+ra)/4\")"
   ]
  },
  {
   "cell_type": "code",
   "execution_count": null,
   "id": "22a32fa0",
   "metadata": {},
   "outputs": [
    {
     "name": "stdout",
     "output_type": "stream",
     "text": [
      "Rentabilidad mensual compuesta: 1.1766 %\n",
      "Rentabilidad trimestral compuesta: 3.5714 %\n",
      "Rentabilidad anual compuesta: 15.0694 %\n"
     ]
    }
   ],
   "source": [
    "# Rentabilidad compuesta\n",
    "im=((43.5/42)**(1/3))-1\n",
    "print(\"Rentabilidad mensual compuesta:\", round(im*100,4), \"%\")\n",
    "it=(43.5/42)-1\n",
    "print(\"Rentabilidad trimestral compuesta:\", round(it*100,4), \"%\")\n",
    "ia=((43.5/42)**(4))-1\n",
    "print(\"Rentabilidad anual compuesta:\", round(ia*100,4), \"%\")\n",
    "print(\"Igualdad de las rentabilidades: (1+im)^3=(1+it)=(1+ia)^1/4\")"
   ]
  },
  {
   "cell_type": "code",
   "execution_count": null,
   "id": "e5094be2",
   "metadata": {},
   "outputs": [
    {
     "name": "stdout",
     "output_type": "stream",
     "text": [
      "Rentabilidad mensual continua: 1.1697 %\n",
      "Rentabilidad trimestral compuesta: 3.5091 %\n",
      "Rentabilidad anual compuesta: 14.0365 %\n",
      "Igualdad de las rentabilidades: km*3=kt=ka/4\n"
     ]
    }
   ],
   "source": [
    "import nunmpy as np\n",
    "# Rentabilidad continua\n",
    "km=np.log(43.5/42)/3\n",
    "print(\"Rentabilidad mensual continua:\", round(km*100,4), \"%\")\n",
    "kt=np.log(43.5/42)\n",
    "print(\"Rentabilidad trimestral compuesta:\", round(kt*100,4), \"%\")\n",
    "ka=np.log(43.5/42)*4\n",
    "print(\"Rentabilidad anual compuesta:\", round(ka*100,4), \"%\")\n",
    "print(\"Igualdad de las rentabilidades: km*3=kt=ka/4\")"
   ]
  },
  {
   "cell_type": "markdown",
   "id": "44bbd217",
   "metadata": {},
   "source": [
    "### Ejercicio 1.2."
   ]
  },
  {
   "cell_type": "markdown",
   "id": "b041089e",
   "metadata": {},
   "source": [
    "| 0 | m1 | m2 | m3 | m4 | m5 | m6 | m7 |\n",
    "| --- | --- | --- | --- | --- | --- | --- | --- |\n",
    "| -120 | 121.20 | 123 | 125 | 124 | 125.62 | 127.32 | 128 |\n",
    "\n",
    "\n",
    "Dado dicho horizonte temporal, calcular:\n",
    "\n",
    "- La rentabilidad de cada mes y rentabilidad media mensual (simple y continua).\n",
    "\n",
    "- La rentabilidad mensual.\n",
    "\n",
    "- La rentabilidad anual.\n",
    "\n",
    "- Comparar las distintas medidas de la rentabilidad."
   ]
  },
  {
   "cell_type": "code",
   "execution_count": 33,
   "id": "971a6600",
   "metadata": {},
   "outputs": [
    {
     "name": "stdout",
     "output_type": "stream",
     "text": [
      "Cuadro resumen de las rentabilidades: \n",
      "--------------------------------------\n",
      "     Cotización  R Simple  R instantánea\n",
      "Mes                                     \n",
      "0        120.00       NaN            NaN\n",
      "1        121.20  1.000000       0.995033\n",
      "2        123.00  1.485149       1.474228\n",
      "3        125.00  1.626016       1.612938\n",
      "4        124.00 -0.800000      -0.803217\n",
      "5        125.62  1.306452       1.297991\n",
      "6        127.32  1.353288       1.344213\n",
      "7        128.00  0.534087       0.532666\n",
      "--·------------------------------------\n",
      "Rentabilidad simple media: 0.92928 %\n",
      "--------------------------------------\n",
      "Rentabilidad instantánea media: 0.92198 %\n"
     ]
    }
   ],
   "source": [
    "#Rentabilidad por cada mes y media mensual\n",
    "import pandas as pd\n",
    "import numpy as np\n",
    "\n",
    "precio=pd.DataFrame({\"Mes\": [0,1,2,3,4,5,6,7],\n",
    "    \"Cotización\": [120,121.20,123,125,124,125.62,127.32,128]})\n",
    "precio.set_index(\"Mes\", inplace=True)\n",
    "precio[\"R Simple\"]=precio[\"Cotización\"].pct_change()*100\n",
    "precio[\"R instantánea\"]=np.log(precio[\"Cotización\"]/precio[\"Cotización\"].shift())*100\n",
    "#Con .shift(1) seleccionamos la fila anterior a la actual\n",
    "\n",
    "print(\"Cuadro resumen de las rentabilidades: \")\n",
    "print(\"--------------------------------------\")\n",
    "print(precio)\n",
    "print(\"--·------------------------------------\")\n",
    "print(\"Rentabilidad simple media:\", round(precio[\"R Simple\"].mean(),5),\"%\")\n",
    "print(\"--------------------------------------\")\n",
    "print(\"Rentabilidad instantánea media:\", round(precio[\"R instantánea\"].mean(),5),\"%\")\n"
   ]
  },
  {
   "cell_type": "code",
   "execution_count": 38,
   "id": "e94d7156",
   "metadata": {},
   "outputs": [
    {
     "data": {
      "image/png": "[encoded data removed]",
      "text/plain": [
       "<Figure size 640x480 with 1 Axes>"
      ]
     },
     "metadata": {},
     "output_type": "display_data"
    }
   ],
   "source": [
    "#Rentabilidad por cada mes y media mensual gráficamente\n",
    "import matplotlib.pyplot as plt\n",
    "\n",
    "plt.plot(precio[\"R Simple\"], color=\"red\", label=\"Simple\")\n",
    "plt.plot(precio[\"R instantánea\"], color=\"blue\", label=\"Instantánea\")\n",
    "plt.title(\"RENTABILIDADES\")\n",
    "plt.ylabel(\"Cambio Mensual (%)\")\n",
    "plt.xlabel(\"Mes\")\n",
    "plt.legend()\n",
    "plt.show()"
   ]
  },
  {
   "cell_type": "code",
   "execution_count": 46,
   "id": "1b24d430",
   "metadata": {},
   "outputs": [
    {
     "name": "stdout",
     "output_type": "stream",
     "text": [
      "Rentabilidad mensual simple: 0.95238 %\n",
      "Rentabilidad mensual compuesta: 0.92624 %\n"
     ]
    }
   ],
   "source": [
    "#Rentabilidad mensual\n",
    "## Simple: 128= 120·(1+7*rm)\n",
    "rm=((precio[\"Cotización\"].iloc[7]/precio[\"Cotización\"].iloc[0])-1)/7\n",
    "print(\"Rentabilidad mensual simple:\", round(rm*100,5), \"%\")\n",
    "\n",
    "## Compuesta: 128=120·(1+im)^7\n",
    "im=(precio[\"Cotización\"].iloc[7]/precio[\"Cotización\"].iloc[0])**(1/7)-1\n",
    "print(\"Rentabilidad mensual compuesta:\", round(im*100,5), \"%\")"
   ]
  },
  {
   "cell_type": "code",
   "execution_count": 41,
   "id": "66d792bf",
   "metadata": {},
   "outputs": [
    {
     "data": {
      "text/plain": [
       "np.float64(128.0)"
      ]
     },
     "execution_count": 41,
     "metadata": {},
     "output_type": "execute_result"
    }
   ],
   "source": [
    "precio[\"Cotización\"].iloc[7]"
   ]
  },
  {
   "cell_type": "code",
   "execution_count": null,
   "id": "f0bfd8f6",
   "metadata": {},
   "outputs": [],
   "source": []
  }
 ],
 "metadata": {
  "kernelspec": {
   "display_name": "Python 3",
   "language": "python",
   "name": "python3"
  },
  "language_info": {
   "codemirror_mode": {
    "name": "ipython",
    "version": 3
   },
   "file_extension": ".py",
   "mimetype": "text/x-python",
   "name": "python",
   "nbconvert_exporter": "python",
   "pygments_lexer": "ipython3",
   "version": "3.12.1"
  }
 },
 "nbformat": 4,
 "nbformat_minor": 5
}
