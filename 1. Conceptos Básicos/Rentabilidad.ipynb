{
 "cells": [
  {
   "cell_type": "markdown",
   "id": "af092d57",
   "metadata": {},
   "source": [
    "## MEDIDAS DE RENTABILIDAD"
   ]
  },
  {
   "cell_type": "markdown",
   "id": "6c7375f6",
   "metadata": {},
   "source": [
    "### A) Tipos de inversiones financieras\n",
    "\n",
    "+ **Gestión de carteras**: análisis títulos, análisis carteras y selección de las carteras óptimas (min. reisgo y max. rentabilidad)\n",
    "\n",
    "+ **Administración de inversiones**: establecer polítca de inversión (sujeta al perfil de riesgo del cliente), análisis títulos, formalización y análisis de las carteras, selección de la cartera y evaluación periódica de sus resultados.\n"
   ]
  },
  {
   "cell_type": "markdown",
   "id": "fab4dfcf",
   "metadata": {},
   "source": [
    "### B) Medidas de rentabilidad\n",
    "\n",
    "- **Rentabilidad simple**: \n",
    "    - Mide el cambio de valor de un activo sin reinversión.\n",
    "    - Cálculo: $C_n=C_0·(1+n·r)$; $r=((C_n/C_0)-1)/n$\n",
    "\n",
    "\n",
    "- **Rentabilidad compuesta** \n",
    "    - Mide el cambio de valor de un activo cuando sus rendimientos son reinvertidos. Utilizado para evaluación de carteras\n",
    "    - Cálculo: $C_n=C_0·(1+i)^n$; $i=(C_n/C_0)^1/n -1$\n",
    "\n",
    "- **Rentabilidad continua**\n",
    "    - Mide el cambio de valor de un activo cuando su reinversión es infinitamente frecuente. Utilizado para evaluar dereivados.\n",
    "    - Cálculo: $C_n=C_0·e^nk$; $k=ln(C_n/C_0)/n$"
   ]
  },
  {
   "cell_type": "markdown",
   "id": "ea8763c2",
   "metadata": {},
   "source": [
    "### **Ejercicio 1.1.**"
   ]
  },
  {
   "cell_type": "markdown",
   "id": "bae80fb5",
   "metadata": {},
   "source": [
    "| 0 | tr1. | \n",
    "| ---- | ---- |\n",
    "| -42 | 42+1.5 |\n",
    "\n",
    "Dado dicho horizonte temporal, calcular:\n",
    "- Rentabilidad mensual, trimestral y anual, simple, compuesta y continua y comparar su igualdad temporal"
   ]
  },
  {
   "cell_type": "code",
   "execution_count": 11,
   "id": "1b4bf9f7",
   "metadata": {},
   "outputs": [
    {
     "name": "stdout",
     "output_type": "stream",
     "text": [
      "Rentabilidad mensual lineal: 1.1905 %\n",
      "Rentabilidad trimestral lineal: 3.5714 %\n",
      "Rentabilidad anual lineal: 14.2857 %\n",
      "Igualdad de las rentabilidades: (1+rm)*3=(1+rt)=(1+ra)/4\n"
     ]
    }
   ],
   "source": [
    "# Rentabilidad simple\n",
    "rm=((43.5/42)-1)/3\n",
    "print(\"Rentabilidad mensual lineal:\", round(rm*100,4), \"%\")\n",
    "rt=(43.5/42)-1\n",
    "print(\"Rentabilidad trimestral lineal:\", round(rt*100,4), \"%\")\n",
    "ra=((43.5/42)-1)*4\n",
    "print(\"Rentabilidad anual lineal:\", round(ra*100,4), \"%\")\n",
    "print(\"Igualdad de las rentabilidades: (1+rm)*3=(1+rt)=(1+ra)/4\")"
   ]
  },
  {
   "cell_type": "code",
   "execution_count": 12,
   "id": "22a32fa0",
   "metadata": {},
   "outputs": [
    {
     "name": "stdout",
     "output_type": "stream",
     "text": [
      "Rentabilidad mensual compuesta: 1.1766 %\n",
      "Rentabilidad trimestral compuesta: 3.5714 %\n",
      "Rentabilidad anual compuesta: 15.0694 %\n",
      "Igualdad de las rentabilidades: (1+im)^3=(1+it)=(1+ia)^1/4\n"
     ]
    }
   ],
   "source": [
    "# Rentabilidad compuesta\n",
    "im=((43.5/42)**(1/3))-1\n",
    "print(\"Rentabilidad mensual compuesta:\", round(im*100,4), \"%\")\n",
    "it=(43.5/42)-1\n",
    "print(\"Rentabilidad trimestral compuesta:\", round(it*100,4), \"%\")\n",
    "ia=((43.5/42)**(4))-1\n",
    "print(\"Rentabilidad anual compuesta:\", round(ia*100,4), \"%\")\n",
    "print(\"Igualdad de las rentabilidades: (1+im)^3=(1+it)=(1+ia)^1/4\")"
   ]
  },
  {
   "cell_type": "code",
   "execution_count": 13,
   "id": "e5094be2",
   "metadata": {},
   "outputs": [
    {
     "name": "stdout",
     "output_type": "stream",
     "text": [
      "Rentabilidad mensual continua: 1.1697 %\n",
      "Rentabilidad trimestral compuesta: 3.5091 %\n",
      "Rentabilidad anual compuesta: 14.0365 %\n",
      "Igualdad de las rentabilidades: km*3=kt=ka/4\n"
     ]
    }
   ],
   "source": [
    "import numpy as np\n",
    "# Rentabilidad continua\n",
    "km=np.log(43.5/42)/3\n",
    "print(\"Rentabilidad mensual continua:\", round(km*100,4), \"%\")\n",
    "kt=np.log(43.5/42)\n",
    "print(\"Rentabilidad trimestral compuesta:\", round(kt*100,4), \"%\")\n",
    "ka=np.log(43.5/42)*4\n",
    "print(\"Rentabilidad anual compuesta:\", round(ka*100,4), \"%\")\n",
    "print(\"Igualdad de las rentabilidades: km*3=kt=ka/4\")"
   ]
  },
  {
   "cell_type": "markdown",
   "id": "44bbd217",
   "metadata": {},
   "source": [
    "### **Ejercicio 1.2.**"
   ]
  },
  {
   "cell_type": "markdown",
   "id": "b041089e",
   "metadata": {},
   "source": [
    "| 0 | m1 | m2 | m3 | m4 | m5 | m6 | m7 |\n",
    "| --- | --- | --- | --- | --- | --- | --- | --- |\n",
    "| -120 | 121.20 | 123 | 125 | 124 | 125.62 | 127.32 | 128 |\n",
    "\n",
    "\n",
    "Dado dicho horizonte temporal, calcular:\n",
    "\n",
    "- La rentabilidad de cada mes y rentabilidad media mensual (simple y continua).\n",
    "\n",
    "- La rentabilidad mensual.\n",
    "\n",
    "- La rentabilidad anual.\n",
    "\n",
    "- Comparar las distintas medidas de la rentabilidad."
   ]
  },
  {
   "cell_type": "code",
   "execution_count": 14,
   "id": "971a6600",
   "metadata": {},
   "outputs": [
    {
     "name": "stdout",
     "output_type": "stream",
     "text": [
      "Cuadro resumen de las rentabilidades: \n",
      "--------------------------------------\n",
      "     Cotización  R simple  R instantánea\n",
      "Mes                                     \n",
      "0        120.00       NaN            NaN\n",
      "1        121.20  1.000000       0.995033\n",
      "2        123.00  1.485149       1.474228\n",
      "3        125.00  1.626016       1.612938\n",
      "4        124.00 -0.800000      -0.803217\n",
      "5        125.62  1.306452       1.297991\n",
      "6        127.32  1.353288       1.344213\n",
      "7        128.00  0.534087       0.532666\n",
      "--·------------------------------------\n",
      "Rentabilidad simple media: 0.92928 %\n",
      "--------------------------------------\n",
      "Rentabilidad instantánea media: 0.92198 %\n"
     ]
    }
   ],
   "source": [
    "#Rentabilidad por cada mes y media mensual\n",
    "import pandas as pd\n",
    "import numpy as np\n",
    "\n",
    "precio=pd.DataFrame({\"Mes\": [0,1,2,3,4,5,6,7],\n",
    "    \"Cotización\": [120,121.20,123,125,124,125.62,127.32,128]})\n",
    "precio.set_index(\"Mes\", inplace=True)\n",
    "precio[\"R simple\"]=precio[\"Cotización\"].pct_change()*100\n",
    "precio[\"R instantánea\"]=np.log(precio[\"Cotización\"]/precio[\"Cotización\"].shift())*100\n",
    "#Con .shift(1) seleccionamos la fila anterior a la actual\n",
    "\n",
    "print(\"Cuadro resumen de las rentabilidades: \")\n",
    "print(\"--------------------------------------\")\n",
    "print(precio)\n",
    "print(\"--·------------------------------------\")\n",
    "print(\"Rentabilidad simple media:\", round(precio[\"R simple\"].mean(),5),\"%\")\n",
    "print(\"--------------------------------------\")\n",
    "print(\"Rentabilidad instantánea media:\", round(precio[\"R instantánea\"].mean(),5),\"%\")\n"
   ]
  },
  {
   "cell_type": "code",
   "execution_count": 15,
   "id": "e94d7156",
   "metadata": {},
   "outputs": [
    {
     "data": {
      "image/png": "[encoded data removed]",
      "text/plain": [
       "<Figure size 640x480 with 2 Axes>"
      ]
     },
     "metadata": {},
     "output_type": "display_data"
    }
   ],
   "source": [
    "#Rentabilidad por cada mes y media mensual gráficamente\n",
    "import matplotlib.pyplot as plt\n",
    "\n",
    "fig, ax1 = plt.subplots()\n",
    "\n",
    "#Primer eje: precio\n",
    "ax1.plot(precio[\"Cotización\"], color=\"blue\", label=\"Precio\")\n",
    "ax1.set_xlabel('Mes')\n",
    "ax1.set_ylabel('Precio')\n",
    "\n",
    "#Segundo eje: rentabilidad\n",
    "ax2=ax1.twinx()\n",
    "ax2.plot(precio[\"R simple\"], color=\"red\", linestyle='--', label=\"Rentabilidad Simple\")\n",
    "ax2.plot(precio[\"R instantánea\"], color=\"green\", linestyle='--', label=\"Rentabilidad Simple\")\n",
    "ax2.set_ylabel(\"Variación mensual\")\n",
    "ax2.set_ylim(-1.5, 2.5) #Establecemos mínimo y máximo del eje\n",
    "ax2.axhline(0, color='gray', linestyle='--') # Añadimos línea en eje 0\n",
    "\n",
    "plt.title(\"PRECIO Y RENTABILIDAD\")\n",
    "plt.show()"
   ]
  },
  {
   "cell_type": "code",
   "execution_count": 16,
   "id": "1b24d430",
   "metadata": {},
   "outputs": [
    {
     "name": "stdout",
     "output_type": "stream",
     "text": [
      "Rentabilidad mensual simple: 0.95238 %\n",
      "Rentabilidad mensual compuesta: 0.92624 %\n",
      "Rentabilidad mensual instantánea: 0.92198 %\n"
     ]
    }
   ],
   "source": [
    "import numpy as np\n",
    "\n",
    "#Rentabilidad mensual: desde primer mes hasta el último\n",
    "## Simple: 128= 120·(1+7*rm)\n",
    "rm=((precio[\"Cotización\"].iloc[7]/precio[\"Cotización\"].iloc[0])-1)/7\n",
    "print(\"Rentabilidad mensual simple:\", round(rm*100,5), \"%\")\n",
    "\n",
    "## Compuesta: 128=120·(1+im)^7\n",
    "im=(precio[\"Cotización\"].iloc[7]/precio[\"Cotización\"].iloc[0])**(1/7)-1\n",
    "print(\"Rentabilidad mensual compuesta:\", round(im*100,5), \"%\")\n",
    "\n",
    "## Instantánea: 128=120·e^7km\n",
    "km=np.log((precio[\"Cotización\"].iloc[7]/precio[\"Cotización\"].iloc[0]))/7\n",
    "print(\"Rentabilidad mensual instantánea:\", round(km*100,5), \"%\")"
   ]
  },
  {
   "cell_type": "code",
   "execution_count": 17,
   "id": "f0bfd8f6",
   "metadata": {},
   "outputs": [
    {
     "name": "stdout",
     "output_type": "stream",
     "text": [
      "Rentabilidad anual simple: 11.42857 %\n",
      "Rentabilidad anual compuesta: 11.69899 %\n",
      "Rentabilidad mensual instantánea: 11.06375 %\n"
     ]
    }
   ],
   "source": [
    "#Rentabilidad anual: desde primer mes hasta el último\n",
    "## Simple: 128= 120·(1+(7/12)*rm)\n",
    "ra=((precio[\"Cotización\"].iloc[7]/precio[\"Cotización\"].iloc[0])-1)*(12/7)\n",
    "print(\"Rentabilidad anual simple:\", round(ra*100,5), \"%\")\n",
    "\n",
    "## Compuesta: 128=120·(1+im)^(7/12)\n",
    "ia=(precio[\"Cotización\"].iloc[7]/precio[\"Cotización\"].iloc[0])**(12/7)-1\n",
    "print(\"Rentabilidad anual compuesta:\", round(ia*100,5), \"%\")\n",
    "\n",
    "\n",
    "## Instantánea: 128=120·e^7/12km\n",
    "ka=np.log((precio[\"Cotización\"].iloc[7]/precio[\"Cotización\"].iloc[0]))*(12/7)\n",
    "print(\"Rentabilidad mensual instantánea:\", round(ka*100,5), \"%\")"
   ]
  },
  {
   "cell_type": "code",
   "execution_count": 18,
   "id": "9b013ed5",
   "metadata": {},
   "outputs": [
    {
     "data": {
      "text/html": [
       "<div>\n",
       "<style scoped>\n",
       "    .dataframe tbody tr th:only-of-type {\n",
       "        vertical-align: middle;\n",
       "    }\n",
       "\n",
       "    .dataframe tbody tr th {\n",
       "        vertical-align: top;\n",
       "    }\n",
       "\n",
       "    .dataframe thead th {\n",
       "        text-align: right;\n",
       "    }\n",
       "</style>\n",
       "<table border=\"1\" class=\"dataframe\">\n",
       "  <thead>\n",
       "    <tr style=\"text-align: right;\">\n",
       "      <th></th>\n",
       "      <th>Cotización</th>\n",
       "      <th>R simple</th>\n",
       "      <th>R instantánea</th>\n",
       "    </tr>\n",
       "    <tr>\n",
       "      <th>Mes</th>\n",
       "      <th></th>\n",
       "      <th></th>\n",
       "      <th></th>\n",
       "    </tr>\n",
       "  </thead>\n",
       "  <tbody>\n",
       "    <tr>\n",
       "      <th>0</th>\n",
       "      <td>120.00</td>\n",
       "      <td>NaN</td>\n",
       "      <td>NaN</td>\n",
       "    </tr>\n",
       "    <tr>\n",
       "      <th>1</th>\n",
       "      <td>121.20</td>\n",
       "      <td>1.000000</td>\n",
       "      <td>0.995033</td>\n",
       "    </tr>\n",
       "    <tr>\n",
       "      <th>2</th>\n",
       "      <td>123.00</td>\n",
       "      <td>1.485149</td>\n",
       "      <td>1.474228</td>\n",
       "    </tr>\n",
       "    <tr>\n",
       "      <th>3</th>\n",
       "      <td>125.00</td>\n",
       "      <td>1.626016</td>\n",
       "      <td>1.612938</td>\n",
       "    </tr>\n",
       "    <tr>\n",
       "      <th>4</th>\n",
       "      <td>124.00</td>\n",
       "      <td>-0.800000</td>\n",
       "      <td>-0.803217</td>\n",
       "    </tr>\n",
       "    <tr>\n",
       "      <th>5</th>\n",
       "      <td>125.62</td>\n",
       "      <td>1.306452</td>\n",
       "      <td>1.297991</td>\n",
       "    </tr>\n",
       "    <tr>\n",
       "      <th>6</th>\n",
       "      <td>127.32</td>\n",
       "      <td>1.353288</td>\n",
       "      <td>1.344213</td>\n",
       "    </tr>\n",
       "    <tr>\n",
       "      <th>7</th>\n",
       "      <td>128.00</td>\n",
       "      <td>0.534087</td>\n",
       "      <td>0.532666</td>\n",
       "    </tr>\n",
       "  </tbody>\n",
       "</table>\n",
       "</div>"
      ],
      "text/plain": [
       "     Cotización  R simple  R instantánea\n",
       "Mes                                     \n",
       "0        120.00       NaN            NaN\n",
       "1        121.20  1.000000       0.995033\n",
       "2        123.00  1.485149       1.474228\n",
       "3        125.00  1.626016       1.612938\n",
       "4        124.00 -0.800000      -0.803217\n",
       "5        125.62  1.306452       1.297991\n",
       "6        127.32  1.353288       1.344213\n",
       "7        128.00  0.534087       0.532666"
      ]
     },
     "execution_count": 18,
     "metadata": {},
     "output_type": "execute_result"
    }
   ],
   "source": [
    "precio"
   ]
  },
  {
   "cell_type": "markdown",
   "id": "f9c2fc88",
   "metadata": {},
   "source": [
    "Comparando las rentabilidades observamos que:\n",
    "- Rentabilidad simple: $12·r_m=r_a$; $r_m!= mean(Precio[\"R simple\"])$\n",
    "    Por lo que podemos afirmar que esta rentabilidad media mensual es diferente a la rentabilidad mensual simple. \n",
    "\n",
    "- Rentabilidad compuesta: $(1+i_m)^12=i_a$; visto en el ejercicio anterior\n",
    "\n",
    "- Rentabilidad instantánea: $12·k_m=k_a$; $k_m=mean(Precio[\"R instantánea\"])$\n",
    "   Por lo que podemos afirmar que esta rentabilidad media mensual es igual a la rentabilidad mensual continua. "
   ]
  },
  {
   "cell_type": "markdown",
   "id": "652e1483",
   "metadata": {},
   "source": [
    "### **Ejercicio 1.3.**"
   ]
  },
  {
   "cell_type": "markdown",
   "id": "9a9f885b",
   "metadata": {},
   "source": [
    "De las rentabilidades diarias:\n",
    "- Rentabilidad diaria media simple y logarítmica.\n",
    "- Rentabilidad anualizada media simple y logarítmica.\n",
    "- Comparación con rentabilidad anual"
   ]
  },
  {
   "cell_type": "markdown",
   "id": "c2e9e465",
   "metadata": {},
   "source": [
    "Apartado a)\n",
    "- Rentabilidad simple: $C_n=C_0*(1+r_d) ; r_d=\\frac{C_n}{C_0}-1$\n",
    "\n",
    "- Rentabilidad instantánea: $Cn=C_0·e^{k_d} ; k_d=ln(\\frac{C_n}{C_0})$"
   ]
  },
  {
   "cell_type": "code",
   "execution_count": 29,
   "id": "25675fea",
   "metadata": {},
   "outputs": [
    {
     "name": "stdout",
     "output_type": "stream",
     "text": [
      " Rentabilidad simple media anualizada: 28.89112 %\n",
      " Rentabilidad instantánea media anualizada: 28.8045 %\n",
      "La rentabilidad simple diaria media es de: 0.11465 %\n",
      "La rentabilidad simple diaria media es de: 0.1143 %\n"
     ]
    }
   ],
   "source": [
    "# Apartado a)\n",
    "import pandas as pd\n",
    "import numpy as np\n",
    "\n",
    "cot=pd.read_excel(\"https://raw.githubusercontent.com/jjimvar/Gestion-de-carteras/main/1.%20Conceptos%20B%C3%A1sicos/ejemplos_l1.xlsx\", \n",
    "    sheet_name=\"Ejemplo 1.3\")\n",
    "\n",
    "cot[\"Rent. Simple\"]=((cot[\"Cotización\"]/cot[\"Cotización\"].shift(1))-1)*100\n",
    "cot[\"Rent. Instantánea\"]=np.log(cot[\"Cotización\"]/cot[\"Cotización\"].shift(1))*100\n",
    "\n",
    "#Apartado b)\n",
    "print(f\" Rentabilidad simple media anualizada: {round((cot[\"Rent. Simple\"].mean())*252,5)} %\") #Utilizamos 252 días para los años\n",
    "print(f\" Rentabilidad instantánea media anualizada: {round((cot[\"Rent. Instantánea\"].mean())*252,5)} %\") #Utilizamos 252 días para los años\n",
    "\n",
    "print(f\"La rentabilidad simple diaria media es de: {round(cot[\"Rent. Simple\"].mean(),5)} %\")\n",
    "print(f\"La rentabilidad simple diaria media es de: {round(cot[\"Rent. Instantánea\"].mean(),5)} %\")"
   ]
  },
  {
   "cell_type": "markdown",
   "id": "4c783bef",
   "metadata": {},
   "source": [
    "En un cierto período s, en cualquier sesión:\n",
    "\n",
    "$$r_s=\\frac{C_s}{C_{s-1}} -1$$\n",
    "\n",
    "$$k_s= \\ln(\\frac{C_s}{C_{s-1}})=\\ln(C_s)-\\ln(C_{s-1})$$\n",
    "\n",
    "De esta forma, la rentabilidad media simple y la media instantánea se definen como:\n",
    "\n",
    "$$\\bar{r}= \\frac{\\sum_{s=1}^{t} r_s} {T}$$\n",
    "\n",
    "$$\\bar{k}= \\frac{\\sum_{s=1}^{t} k_s} {T}$$"
   ]
  },
  {
   "cell_type": "markdown",
   "id": "cd53111b",
   "metadata": {},
   "source": [
    "Para la rentabilidad media instantánea tenemos:\n",
    "\n",
    "$$\\bar{k}= \\frac{(\\ln(C_1)-\\ln(C_0))+(\\ln(C_2)-\\ln(C_1))+...+(\\ln(C_T)-\\ln(C_T-1))} {T} = \\frac{\\ln(C_T)-\\ln{C_0}}{T}=\\frac{1} {T} · \\ln(\\frac{C_T}{C_0})$$\n",
    "\n",
    "De donde podemos extraer que:\n",
    "\n",
    "$$\\bar{k}=\\frac{\\sum_{s=1}^{T} k_s} {T}=\\frac{1} {T} · \\ln(\\frac{C_T}{C_0});$$\n",
    "$$T·\\bar{k}=\\sum_{s=1}^{T} k_s=\\ln(\\frac{C_T}{C_0});$$\n",
    "$$e^{T·\\bar{k}}=e^{\\sum_{s=1}^{T} k_s}=\\frac{C_T}{C_0}$$\n",
    "$$C_T=C_0·e^{T·\\bar{k}}=C_0·e^{\\sum_{s=1}^{T} k_s}$$\n",
    "\n",
    "Observamos que la rentabilidad intantánea, $\\ln(\\frac{C_T}{C_0})$, es igual a la suma de rentabilidades de los subperíodos (**condición de aditividad**):\n",
    "\n",
    "$$\\ln(\\frac{C_T}{C_0})=k_1+k_2+...+k_t$$\n",
    "\n",
    "Si tenemos sesiones diarias, las rentabilidades se definen como:\n",
    "\n",
    "$$\\bar{r_a}=252·\\bar{r}; \\bar{k_a}=252·\\bar{k}$$"
   ]
  },
  {
   "cell_type": "markdown",
   "id": "c1eb1207",
   "metadata": {},
   "source": [
    "Rentabilidad anual simple:\n",
    "\n",
    "$$C_T=C_0·(1+\\frac{T} {252}·r_a); r_a \\neq \\bar{r_a}$$\n",
    "\n",
    "Rentabilidad anual continua:\n",
    "\n",
    "$$C_T=C_0·e^{\\frac{T}{252}·k_a}; i_a \\neq \\bar{i_a}$$\n",
    "\n",
    "De donde se deduce: $k_a= \\frac{252} {T}·\\ln{\\frac{C_T}{C_0}}$. Pero $\\bar{k}=\\frac{1} {T} ·\\ln{\\frac{C_T}{C_0}}$. Por tanto:\n",
    "\n",
    "$$k_a=252·\\bar{k}=\\bar{k_a}$$\n",
    "\n",
    "**Se aprecia como la rentabilidad continua anual representa la media de cualquier subperíodo (por su igualdad a nivel de tiempo) y, además, la media anual de rentabilidades.**"
   ]
  },
  {
   "cell_type": "markdown",
   "id": "d56461b0",
   "metadata": {},
   "source": [
    "Rentabilidad anual compuesta:\n",
    "\n",
    "$$C_T=C_0·(1+i_s)^{\\frac{T}{252}}$$\n",
    "\n",
    "Comparando con la rentabilidad anual continua:\n",
    "\n",
    "$$(1+i_s)^{\\frac{T}{252}}=e^{\\frac{T}{252}·k_a} ; k_a=\\ln{(1+i_a)}$$\n",
    "\n",
    "Sabiendo que $r_s=\\frac{C_T}{C_0}-1=i_s$\n",
    "\n",
    "$$(1+i_1)(1+i_2)···(1+i_T)=\\prod_{s=1}^{T} (1+i_s)=\\frac{C_T} {C_0}=(1+\\bar{i})^T$$\n",
    "\n",
    "$$\\bar{i}=\\sqrt[T]{\\prod_{s=1}^{T} (1+i_s)} -1$$\n",
    "\n",
    "El valor $\\bar{i}$ representa la rentabilidad media compuesta o geométrica:\n",
    "\n",
    "$$C_T=C_0·(1+\\bar{i})^T ; \\bar{i}=\\sqrt[T] {\\frac{C_T}{C_0}} -1$$\n",
    "\n",
    "Comparando con la rentabilidad anual compuesta:\n",
    "\n",
    "$$(1+\\bar{i})^{252}=1+i_a$$\n",
    "\n",
    "Además, si comparamos la media anual:\n",
    "\n",
    "$$(1+\\bar{i})^{252}=1+i_a=1+\\bar{i_a} ; i_a=\\bar{i_a}$$"
   ]
  },
  {
   "cell_type": "markdown",
   "id": "a8d8d101",
   "metadata": {},
   "source": [
    "En conclusión, la rentabilidad anual es igual a:\n",
    "\n",
    "- 252 x Rentabilidad media diaria\n",
    "- 52 x Rentabilidad media semanal\n",
    "- 12 x Rentabilidad media mensual"
   ]
  },
  {
   "cell_type": "markdown",
   "id": "71324156",
   "metadata": {},
   "source": [
    "**RESUMEN DE IGUALDADES**\n",
    "\n",
    "- Rentabilidad simple: $\\bar{r_a}=252·\\bar{r} \\neq r_a$\n",
    "- Rentabilidad continua: $\\bar{k_a}=252·\\bar{k} = k_a = \\ln{(1+i_a)}$\n",
    "- Rentabilidad compuesta: $(1+\\bar{i_a})=(1+\\bar{i})^{252}=(1+i_a)$"
   ]
  },
  {
   "cell_type": "markdown",
   "id": "4f9c11b7",
   "metadata": {},
   "source": [
    "### **Ejercicio 1.4.**"
   ]
  },
  {
   "cell_type": "markdown",
   "id": "3b85fea7",
   "metadata": {},
   "source": [
    "Con el cuadro de cotizaciones, hallar:\n",
    "\n",
    "- Rentabilidad media mensual\n",
    "- Rentabilidad mensual\n",
    "- Rentabilidad media mensual elevada al año\n",
    "- Rentabilidad anual"
   ]
  },
  {
   "cell_type": "code",
   "execution_count": null,
   "id": "c6d8cc25",
   "metadata": {},
   "outputs": [
    {
     "name": "stdout",
     "output_type": "stream",
     "text": [
      "Rentabilidad media mensual simple: 1.0051 %\n",
      "Rentabilidad media mensual instantánea: 0.9666 %\n",
      "Rentabilidad media mensual geométrica: 0.9712 %\n"
     ]
    }
   ],
   "source": [
    "import pandas as pd\n",
    "import numpy as np\n",
    "import statistics as st\n",
    "\n",
    "df=pd.read_excel(\"https://raw.githubusercontent.com/jjimvar/Gestion-de-carteras/main/1.%20Conceptos%20B%C3%A1sicos/ejemplos_l1.xlsx\", \n",
    "    sheet_name=\"Ejemplo 1.4\")\n",
    "\n",
    "#Rentabilidad media mensual\n",
    "df[\"R simple\"]=df[\"Cotización\"]/df[\"Cotización\"].shift(1)-1\n",
    "df[\"R instantánea\"]=np.log(df[\"Cotización\"]/df[\"Cotización\"].shift(1))\n",
    "rgeo=st.geometric_mean(1+df[\"R simple\"].iloc[1:])-1\n",
    "\n",
    "print(f\"Rentabilidad media mensual simple: {round(df[\"R simple\"].mean()*100, 4)} %\")\n",
    "print(f\"Rentabilidad media mensual instantánea: {round(df[\"R instantánea\"].mean()*100, 4)} %\")\n",
    "print(f\"Rentabilidad media mensual geométrica: {round(rgeo*100, 4)} %\")\n",
    "print(\"-------------------------------------------\")"
   ]
  },
  {
   "cell_type": "markdown",
   "id": "252bc411",
   "metadata": {},
   "source": [
    "Rentabilidad mensual:\n",
    "\n",
    "- Simple: $C_7=C_0·(1+7·r_m); r_m= \\frac{\\frac{C_7}{C_0}-1}{7}$\n",
    "- Instantánea: $C_7=C_0·e^{7·k_m};k_m=\\frac{\\ln{C_7/C_0}}{7}$\n",
    "- Geométrica: $C_7=C_0·(1+i_m)^7;i_m=\\sqrt[7]{\\frac{C_7}{C_0}}-1$"
   ]
  },
  {
   "cell_type": "code",
   "execution_count": 76,
   "id": "d8e1a971",
   "metadata": {},
   "outputs": [
    {
     "name": "stdout",
     "output_type": "stream",
     "text": [
      "Rentabilidad mensual simple: 1.0 %\n",
      "Rentabilidad mensual instantánea: 0.9666 %\n",
      "Rentabilidad mensual geométrica: 0.9712 %\n",
      "-------------------------------------------\n"
     ]
    }
   ],
   "source": [
    "import numpy as np\n",
    "\n",
    "rm=((df[\"Cotización\"].iloc[7]/df[\"Cotización\"].iloc[0])-1)/7*100\n",
    "km=np.log(df[\"Cotización\"].iloc[7]/df[\"Cotización\"].iloc[0])/7*100\n",
    "im=((df[\"Cotización\"].iloc[7]/df[\"Cotización\"].iloc[0])**(1/7)-1)*100\n",
    "\n",
    "print(f\"Rentabilidad mensual simple: {round(rm, 4)} %\")\n",
    "print(f\"Rentabilidad mensual instantánea: {round(km, 4)} %\")\n",
    "print(f\"Rentabilidad mensual geométrica: {round(im, 4)} %\")\n",
    "print(\"-------------------------------------------\")\n"
   ]
  },
  {
   "cell_type": "markdown",
   "id": "fbb6b58e",
   "metadata": {},
   "source": [
    "Rentabilidad media anual:\n",
    "\n",
    "- Simple: $\\bar{r_a}=12*\\bar{r}$\n",
    "- Instantánea: $\\bar{k_a}=12*\\bar{k}$\n",
    "- Geométrica: $1+\\bar{i_a}=(1+\\bar{i})^{12}$"
   ]
  },
  {
   "cell_type": "code",
   "execution_count": 77,
   "id": "bd99fe13",
   "metadata": {},
   "outputs": [
    {
     "name": "stdout",
     "output_type": "stream",
     "text": [
      "Rentabilidad media anual simple: 12.0616 %\n",
      "Rentabilidad media anual instantánea: 11.5986 %\n",
      "Rentabilidad media anual geométrica: 12.298 %\n",
      "-------------------------------------------\n"
     ]
    }
   ],
   "source": [
    "# Rentabilidad media mensual elevada al año\n",
    "mra=12*df[\"R simple\"].mean()\n",
    "mka=12*df[\"R instantánea\"].mean()\n",
    "mia=(1+rgeo)**12-1\n",
    "\n",
    "print(f\"Rentabilidad media anual simple: {round(mra*100, 4)} %\")\n",
    "print(f\"Rentabilidad media anual instantánea: {round(mka*100, 4)} %\")\n",
    "print(f\"Rentabilidad media anual geométrica: {round(mia*100, 4)} %\")\n",
    "print(\"-------------------------------------------\")"
   ]
  },
  {
   "cell_type": "markdown",
   "id": "d4a37756",
   "metadata": {},
   "source": [
    "Rentabilidad anual:\n",
    "\n",
    "- Simple: $C_7=C_0·(1+\\frac{7}{12}·r_m); r_m= \\frac{(\\frac{C_7}{C_0})-1}{7}·12$\n",
    "- Instantánea: $C_7=C_0·e^{\\frac{7}{12}·k_m};k_m=\\ln{\\frac{C_7}{C_0}}·\\frac{12}{7}$\n",
    "- Geométrica: $C_7=C_0·(1+i_m)^\\frac{7}{12};i_m=\\sqrt[12/7]{\\frac{C_7}{C_0}}-1$"
   ]
  },
  {
   "cell_type": "code",
   "execution_count": 78,
   "id": "fb3bed72",
   "metadata": {},
   "outputs": [
    {
     "name": "stdout",
     "output_type": "stream",
     "text": [
      "Rentabilidad media anual simple: 12.0 %\n",
      "Rentabilidad media anual instantánea: 11.5986 %\n",
      "Rentabilidad media anual geométrica: 12.298 %\n",
      "-------------------------------------------\n"
     ]
    }
   ],
   "source": [
    "# Rentabilidad anual\n",
    "ra=(((df[\"Cotización\"].iloc[7]/df[\"Cotización\"].iloc[0])-1)/7*12)*100\n",
    "ka=(np.log(df[\"Cotización\"].iloc[7]/df[\"Cotización\"].iloc[0])/7*12)*100\n",
    "ia=((df[\"Cotización\"].iloc[7]/df[\"Cotización\"].iloc[0])**(12/7)-1)*100\n",
    "\n",
    "print(f\"Rentabilidad media anual simple: {round(ra, 4)} %\")\n",
    "print(f\"Rentabilidad media anual instantánea: {round(ka, 4)} %\")\n",
    "print(f\"Rentabilidad media anual geométrica: {round(ia, 4)} %\")\n",
    "print(\"-------------------------------------------\")"
   ]
  },
  {
   "cell_type": "markdown",
   "id": "84e2289e",
   "metadata": {},
   "source": [
    "### **Ejercicio 1.5.**"
   ]
  },
  {
   "cell_type": "markdown",
   "id": "a8819db9",
   "metadata": {},
   "source": [
    "Con los datos de cotización, se pide la rentabilidad media mensual:\n",
    "\n",
    "Interés geométrico: $(1+\\bar{i})^4=(1+i_1)(1+i_2)+···+(1+i_4) ; \\bar{i}=\\sqrt[4]{\\prod{(1+i_s)}}-1$"
   ]
  },
  {
   "cell_type": "code",
   "execution_count": 88,
   "id": "6c44a0ed",
   "metadata": {},
   "outputs": [
    {
     "name": "stdout",
     "output_type": "stream",
     "text": [
      "Rentabilidad media mensual simple: 0.0333 %\n",
      "Rentabilidad media mensual instantánea: 0.0 %\n",
      "Rentabilidad media mensual geométrica: 0.0 %\n",
      "-------------------------------------------\n"
     ]
    }
   ],
   "source": [
    "import pandas as pd\n",
    "import numpy as np\n",
    "\n",
    "df=pd.read_excel(\"https://raw.githubusercontent.com/jjimvar/Gestion-de-carteras/main/1.%20Conceptos%20B%C3%A1sicos/ejemplos_l1.xlsx\", \n",
    "    sheet_name=\"Ejemplo 1.5\")\n",
    "\n",
    "df[\"R simple\"]=(df[\"Cotización\"]/df[\"Cotización\"].shift(1))-1\n",
    "df[\"R instantánea\"]=np.log(df[\"Cotización\"]/df[\"Cotización\"].shift(1))\n",
    "mim=np.prod(1+df[\"R simple\"])**(1/4)-1\n",
    "\n",
    "\n",
    "print(f\"Rentabilidad media mensual simple: {round(df[\"R simple\"].mean()*100, 4)} %\")\n",
    "print(f\"Rentabilidad media mensual instantánea: {round(df[\"R instantánea\"].mean()*100, 4)} %\")\n",
    "print(f\"Rentabilidad media mensual geométrica: {round(mim*100, 4)} %\")\n",
    "print(\"-------------------------------------------\")"
   ]
  },
  {
   "cell_type": "code",
   "execution_count": 89,
   "id": "b0ab621f",
   "metadata": {},
   "outputs": [
    {
     "data": {
      "text/html": [
       "<div>\n",
       "<style scoped>\n",
       "    .dataframe tbody tr th:only-of-type {\n",
       "        vertical-align: middle;\n",
       "    }\n",
       "\n",
       "    .dataframe tbody tr th {\n",
       "        vertical-align: top;\n",
       "    }\n",
       "\n",
       "    .dataframe thead th {\n",
       "        text-align: right;\n",
       "    }\n",
       "</style>\n",
       "<table border=\"1\" class=\"dataframe\">\n",
       "  <thead>\n",
       "    <tr style=\"text-align: right;\">\n",
       "      <th></th>\n",
       "      <th>Sesión</th>\n",
       "      <th>Cotización</th>\n",
       "      <th>R simple</th>\n",
       "      <th>R instantánea</th>\n",
       "    </tr>\n",
       "  </thead>\n",
       "  <tbody>\n",
       "    <tr>\n",
       "      <th>0</th>\n",
       "      <td>0</td>\n",
       "      <td>300</td>\n",
       "      <td>NaN</td>\n",
       "      <td>NaN</td>\n",
       "    </tr>\n",
       "    <tr>\n",
       "      <th>1</th>\n",
       "      <td>1</td>\n",
       "      <td>310</td>\n",
       "      <td>0.033333</td>\n",
       "      <td>0.03279</td>\n",
       "    </tr>\n",
       "    <tr>\n",
       "      <th>2</th>\n",
       "      <td>2</td>\n",
       "      <td>315</td>\n",
       "      <td>0.016129</td>\n",
       "      <td>0.01600</td>\n",
       "    </tr>\n",
       "    <tr>\n",
       "      <th>3</th>\n",
       "      <td>3</td>\n",
       "      <td>310</td>\n",
       "      <td>-0.015873</td>\n",
       "      <td>-0.01600</td>\n",
       "    </tr>\n",
       "    <tr>\n",
       "      <th>4</th>\n",
       "      <td>4</td>\n",
       "      <td>300</td>\n",
       "      <td>-0.032258</td>\n",
       "      <td>-0.03279</td>\n",
       "    </tr>\n",
       "  </tbody>\n",
       "</table>\n",
       "</div>"
      ],
      "text/plain": [
       "   Sesión  Cotización  R simple  R instantánea\n",
       "0       0         300       NaN            NaN\n",
       "1       1         310  0.033333        0.03279\n",
       "2       2         315  0.016129        0.01600\n",
       "3       3         310 -0.015873       -0.01600\n",
       "4       4         300 -0.032258       -0.03279"
      ]
     },
     "execution_count": 89,
     "metadata": {},
     "output_type": "execute_result"
    }
   ],
   "source": [
    "df"
   ]
  },
  {
   "cell_type": "markdown",
   "id": "1bd49073",
   "metadata": {},
   "source": [
    "Se puede apreciar como, pese a no haber variabilidad en la cotización, la media simple es de 0,033%. Esto fortalece el uso de la rentabilidad compuesta y continua"
   ]
  }
 ],
 "metadata": {
  "kernelspec": {
   "display_name": "Python 3",
   "language": "python",
   "name": "python3"
  },
  "language_info": {
   "codemirror_mode": {
    "name": "ipython",
    "version": 3
   },
   "file_extension": ".py",
   "mimetype": "text/x-python",
   "name": "python",
   "nbconvert_exporter": "python",
   "pygments_lexer": "ipython3",
   "version": "3.12.1"
  }
 },
 "nbformat": 4,
 "nbformat_minor": 5
}
